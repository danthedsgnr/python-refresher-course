{
 "cells": [
  {
   "cell_type": "code",
   "execution_count": 77,
   "metadata": {},
   "outputs": [],
   "source": [
    "# Creating a bank account \n",
    "\n",
    "class Bank_Account:\n",
    "    def __init__(self, person, acc_bal):\n",
    "        print(f\"Account Created with {acc_bal} naira\")\n",
    "        # self.first_deposit = first_deposit\n",
    "        self.person = person\n",
    "        self.accbal = acc_bal\n",
    "\n",
    "    def deposit (self, amount_deposited):\n",
    "        print(f\"You deposited {amount_deposited}\")\n",
    "        self.accbal += amount_deposited\n",
    "        print(f\"Your balance is now {self.accbal}\")\n",
    "    \n",
    "    def withdrawal(self, amount_withdrawn):\n",
    "        if (amount_withdrawn > self.accbal):\n",
    "            print(\"Insufficient Funds\")\n",
    "        else:\n",
    "            self.accbal -= amount_withdrawn\n",
    "            print(f\"You withdrew {amount_withdrawn}. Your balance is now {self.accbal}\")\n",
    "        \n",
    "        \n",
    "        \n",
    "        # try:\n",
    "        #     amount_withdrawn > self.accbal\n",
    "        # except:\n",
    "        #     print(\"Insufficient Funds\")\n",
    "        # finally:\n",
    "        #     self.accbal -= amount_withdrawn\n",
    "        #     print(f\"You withdrew {amount_withdrawn}. Your balance is now {self.accbal}\")\n",
    "        \n",
    "        # print(f\"You withdrew {amount_withdrawn}. Your balance is now {self.accbal}\")\n",
    "\n",
    "       \n",
    "    "
   ]
  },
  {
   "cell_type": "code",
   "execution_count": 81,
   "metadata": {},
   "outputs": [
    {
     "name": "stdout",
     "output_type": "stream",
     "text": [
      "Account Created with 500000 naira\n"
     ]
    }
   ],
   "source": [
    "bank = Bank_Account(\"Dapo\", 500000)"
   ]
  },
  {
   "cell_type": "code",
   "execution_count": 15,
   "metadata": {},
   "outputs": [
    {
     "name": "stdout",
     "output_type": "stream",
     "text": [
      "You deposited 100000\n",
      "Your balance is now 600000\n"
     ]
    }
   ],
   "source": [
    "bank.deposit(100000)"
   ]
  },
  {
   "cell_type": "code",
   "execution_count": 23,
   "metadata": {},
   "outputs": [
    {
     "name": "stdout",
     "output_type": "stream",
     "text": [
      "You withdrew 25000. Your balance is now 425000\n"
     ]
    }
   ],
   "source": [
    "bank.withdrawal(25000)"
   ]
  },
  {
   "cell_type": "code",
   "execution_count": 24,
   "metadata": {},
   "outputs": [
    {
     "name": "stdout",
     "output_type": "stream",
     "text": [
      "You deposited 2000000\n",
      "Your balance is now 2425000\n"
     ]
    }
   ],
   "source": [
    "bank.deposit(2000000)"
   ]
  },
  {
   "cell_type": "code",
   "execution_count": 46,
   "metadata": {},
   "outputs": [
    {
     "name": "stdout",
     "output_type": "stream",
     "text": [
      "You deposited 200000\n",
      "Your balance is now 100000\n"
     ]
    }
   ],
   "source": [
    "bank.accbal\n",
    "bank.deposit(200000)"
   ]
  },
  {
   "cell_type": "code",
   "execution_count": 40,
   "metadata": {},
   "outputs": [
    {
     "name": "stdout",
     "output_type": "stream",
     "text": [
      "You withdrew 470000. Your balance is now 1000000\n"
     ]
    }
   ],
   "source": [
    "bank.withdrawal(470000)"
   ]
  },
  {
   "cell_type": "code",
   "execution_count": 48,
   "metadata": {},
   "outputs": [
    {
     "data": {
      "text/plain": [
       "100000"
      ]
     },
     "execution_count": 48,
     "metadata": {},
     "output_type": "execute_result"
    }
   ],
   "source": [
    "bank.accbal"
   ]
  },
  {
   "cell_type": "code",
   "execution_count": 49,
   "metadata": {},
   "outputs": [
    {
     "name": "stdout",
     "output_type": "stream",
     "text": [
      "You withdrew 200000. Your balance is now -100000\n"
     ]
    }
   ],
   "source": [
    "bank.withdrawal(200000)"
   ]
  },
  {
   "cell_type": "code",
   "execution_count": 83,
   "metadata": {},
   "outputs": [
    {
     "name": "stdout",
     "output_type": "stream",
     "text": [
      "You deposited 100000\n",
      "Your balance is now 700000\n"
     ]
    }
   ],
   "source": [
    "bank.deposit(100000)"
   ]
  },
  {
   "cell_type": "code",
   "execution_count": 89,
   "metadata": {},
   "outputs": [
    {
     "name": "stdout",
     "output_type": "stream",
     "text": [
      "Insufficient Funds\n"
     ]
    }
   ],
   "source": [
    "bank.withdrawal(200000)"
   ]
  },
  {
   "cell_type": "code",
   "execution_count": 79,
   "metadata": {},
   "outputs": [
    {
     "name": "stdout",
     "output_type": "stream",
     "text": [
      "Account Created with 200 naira\n"
     ]
    }
   ],
   "source": [
    "account = Bank_Account(\"Daniel\", 200) "
   ]
  },
  {
   "cell_type": "code",
   "execution_count": 80,
   "metadata": {},
   "outputs": [
    {
     "name": "stdout",
     "output_type": "stream",
     "text": [
      "Insufficient Funds\n"
     ]
    }
   ],
   "source": [
    "account.withdrawal(300)"
   ]
  }
 ],
 "metadata": {
  "kernelspec": {
   "display_name": "base",
   "language": "python",
   "name": "python3"
  },
  "language_info": {
   "codemirror_mode": {
    "name": "ipython",
    "version": 3
   },
   "file_extension": ".py",
   "mimetype": "text/x-python",
   "name": "python",
   "nbconvert_exporter": "python",
   "pygments_lexer": "ipython3",
   "version": "3.12.7"
  }
 },
 "nbformat": 4,
 "nbformat_minor": 2
}
