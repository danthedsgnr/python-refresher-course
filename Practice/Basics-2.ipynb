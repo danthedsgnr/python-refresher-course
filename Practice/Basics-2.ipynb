{
 "cells": [
  {
   "cell_type": "code",
   "execution_count": 3,
   "metadata": {},
   "outputs": [
    {
     "name": "stdout",
     "output_type": "stream",
     "text": [
      "Hello Daniel!\n"
     ]
    }
   ],
   "source": [
    "prompt = \"If you tell us who you are, we can personalize the messages you see.\"\n",
    "prompt += \"\\nWhat is your first name? \"\n",
    "\n",
    "name = input(prompt)\n",
    "\n",
    "print(f\"Hello {name}!\")"
   ]
  },
  {
   "cell_type": "code",
   "execution_count": 4,
   "metadata": {},
   "outputs": [
    {
     "name": "stdout",
     "output_type": "stream",
     "text": [
      "1\n",
      "2\n",
      "3\n",
      "4\n",
      "5\n"
     ]
    }
   ],
   "source": [
    "currentNumber = 1\n",
    "while currentNumber <= 5:\n",
    "    print(currentNumber)\n",
    "    currentNumber += 1"
   ]
  },
  {
   "cell_type": "code",
   "execution_count": null,
   "metadata": {},
   "outputs": [
    {
     "name": "stdout",
     "output_type": "stream",
     "text": [
      "\n",
      "Daniel\n",
      "Dan\n",
      "\n",
      "\n"
     ]
    }
   ],
   "source": [
    "prompt = \"Tell me something, and I will repeat it back to you. \"\n",
    "prompt += \"Enter 'quit' to cancel\"\n",
    "\n",
    "message = \"\"\n",
    "\n",
    "while message != 'quit':\n",
    "    message = input(prompt)\n",
    "    if message != 'quit':\n",
    "        print(message)"
   ]
  },
  {
   "cell_type": "code",
   "execution_count": 10,
   "metadata": {},
   "outputs": [
    {
     "name": "stdout",
     "output_type": "stream",
     "text": [
      "I've watched Komi Can'T Communicate\n",
      "I've watched Attack On Titan\n"
     ]
    }
   ],
   "source": [
    "prompt = \"Please enter the name of animes you've watched.\"\n",
    "prompt += \"\\n(Enter 'quit' when you're done)\"\n",
    "\n",
    "while True:\n",
    "    anime = input(prompt)\n",
    "    if anime == 'quit':\n",
    "        break\n",
    "    else:\n",
    "        print(f\"I've watched {anime.title()}\")"
   ]
  },
  {
   "cell_type": "code",
   "execution_count": 11,
   "metadata": {},
   "outputs": [
    {
     "name": "stdout",
     "output_type": "stream",
     "text": [
      "1\n",
      "3\n",
      "5\n",
      "7\n",
      "9\n"
     ]
    }
   ],
   "source": [
    "countNumber = 0\n",
    "\n",
    "while countNumber < 10:\n",
    "    countNumber += 1\n",
    "    if countNumber % 2 == 0:\n",
    "        continue\n",
    "    else:\n",
    "        print(countNumber)"
   ]
  },
  {
   "cell_type": "code",
   "execution_count": 5,
   "metadata": {},
   "outputs": [
    {
     "name": "stdout",
     "output_type": "stream",
     "text": [
      "Then name of this restaurant is Cheezey's\n"
     ]
    }
   ],
   "source": [
    "# Experimenting with Classes\n",
    "\n",
    "class Restaurant:\n",
    "    def __init__(self, restaurantName, cuisineType):\n",
    "        self.Name = restaurantName\n",
    "        self.food = cuisineType\n",
    "\n",
    "    def describeRestaurant(self):\n",
    "        print(\"Then name of this restaurant is\", self.Name)\n",
    "\n",
    "\n",
    "\n",
    "my_shop = Restaurant(\"Cheezey's\", \"Meat Wraps\")\n",
    "\n",
    "my_shop.describeRestaurant()"
   ]
  }
 ],
 "metadata": {
  "kernelspec": {
   "display_name": "base",
   "language": "python",
   "name": "python3"
  },
  "language_info": {
   "codemirror_mode": {
    "name": "ipython",
    "version": 3
   },
   "file_extension": ".py",
   "mimetype": "text/x-python",
   "name": "python",
   "nbconvert_exporter": "python",
   "pygments_lexer": "ipython3",
   "version": "3.12.7"
  }
 },
 "nbformat": 4,
 "nbformat_minor": 2
}
