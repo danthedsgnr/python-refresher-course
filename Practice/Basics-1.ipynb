{
 "cells": [
  {
   "cell_type": "code",
   "execution_count": 2,
   "metadata": {},
   "outputs": [
    {
     "name": "stdout",
     "output_type": "stream",
     "text": [
      "[4, 9, 16, 25, 36, 49, 64, 81, 100]\n"
     ]
    }
   ],
   "source": [
    "squares_list = []\n",
    "\n",
    "for number in list(range(2, 11)):\n",
    "    square = number ** 2\n",
    "    squares_list.append(square)\n",
    "\n",
    "print(squares_list)"
   ]
  },
  {
   "cell_type": "code",
   "execution_count": 3,
   "metadata": {},
   "outputs": [
    {
     "data": {
      "text/plain": [
       "100"
      ]
     },
     "execution_count": 3,
     "metadata": {},
     "output_type": "execute_result"
    }
   ],
   "source": [
    "min(squares_list)\n",
    "max(squares_list)"
   ]
  },
  {
   "cell_type": "code",
   "execution_count": 4,
   "metadata": {},
   "outputs": [
    {
     "name": "stdout",
     "output_type": "stream",
     "text": [
      "[1, 4, 9, 16, 25, 36, 49, 64, 81, 100]\n"
     ]
    }
   ],
   "source": [
    "squares = [value ** 2 for value in range(1, 11)]\n",
    "print(squares)"
   ]
  },
  {
   "cell_type": "code",
   "execution_count": 5,
   "metadata": {},
   "outputs": [
    {
     "name": "stdout",
     "output_type": "stream",
     "text": [
      "Charles\n",
      "Martina\n",
      "Michael\n",
      "['charles', 'martina', 'michael', 'florence', 'eli']\n"
     ]
    }
   ],
   "source": [
    "players = ['charles', 'martina', 'michael', 'florence', 'eli']\n",
    "subs = players[:]\n",
    "\n",
    "for player in players[:3]:\n",
    "    print(player.title())\n",
    "\n",
    "print(subs)"
   ]
  },
  {
   "cell_type": "code",
   "execution_count": 6,
   "metadata": {},
   "outputs": [
    {
     "name": "stdout",
     "output_type": "stream",
     "text": [
      "['charles', 'martina', 'michael', 'florence', 'eli', 'Daniel']\n",
      "['charles', 'martina', 'michael', 'florence', 'eli', 'Dapo']\n"
     ]
    }
   ],
   "source": [
    "players.append(\"Daniel\")\n",
    "print(players)\n",
    "\n",
    "subs.append(\"Dapo\")\n",
    "print(subs)"
   ]
  },
  {
   "cell_type": "code",
   "execution_count": 7,
   "metadata": {},
   "outputs": [
    {
     "name": "stdout",
     "output_type": "stream",
     "text": [
      "Charles\n",
      "Martina\n",
      "MICHAEL\n",
      "Florence\n",
      "Eli\n",
      "Daniel\n"
     ]
    }
   ],
   "source": [
    "for player in players:\n",
    "    if player == \"michael\":\n",
    "        print(player.upper())\n",
    "    else:\n",
    "        print(player.title())"
   ]
  },
  {
   "cell_type": "code",
   "execution_count": 8,
   "metadata": {},
   "outputs": [
    {
     "data": {
      "text/plain": [
       "True"
      ]
     },
     "execution_count": 8,
     "metadata": {},
     "output_type": "execute_result"
    }
   ],
   "source": [
    "car = \"Audi\"\n",
    "\n",
    "car.lower() == \"audi\""
   ]
  },
  {
   "cell_type": "code",
   "execution_count": 9,
   "metadata": {},
   "outputs": [
    {
     "data": {
      "text/plain": [
       "True"
      ]
     },
     "execution_count": 9,
     "metadata": {},
     "output_type": "execute_result"
    }
   ],
   "source": [
    "\"daniel\".title() in players"
   ]
  },
  {
   "cell_type": "code",
   "execution_count": 10,
   "metadata": {},
   "outputs": [
    {
     "name": "stdout",
     "output_type": "stream",
     "text": [
      "Your price is 15\n"
     ]
    }
   ],
   "source": [
    "age = int(input(\"How old are you? \"))\n",
    "\n",
    "if age <= 4:\n",
    "    price = 0\n",
    "elif age <= 8:\n",
    "    price = 5\n",
    "elif age <= 12:\n",
    "    price = 10\n",
    "else:\n",
    "    price = 15\n",
    "\n",
    "print(f\"Your price is {price}\")"
   ]
  },
  {
   "cell_type": "code",
   "execution_count": 11,
   "metadata": {},
   "outputs": [
    {
     "name": "stdout",
     "output_type": "stream",
     "text": [
      "You're a kid\n"
     ]
    }
   ],
   "source": [
    "age = 7\n",
    "\n",
    "if age < 2:\n",
    "    print(\"You're still a baby\")\n",
    "elif age >= 2 and age < 4:\n",
    "    print(\"You're a toddler\")\n",
    "elif age >= 4 and age < 13:\n",
    "    print(\"You're a kid\")\n",
    "elif age >= 13 and age < 20:\n",
    "    print(\"You're a teenager\")\n",
    "elif age >= 20 and age < 65:\n",
    "    print(\"You're an adult\")"
   ]
  },
  {
   "cell_type": "code",
   "execution_count": 12,
   "metadata": {},
   "outputs": [
    {
     "name": "stdout",
     "output_type": "stream",
     "text": [
      "I didn't know you liked apples!\n"
     ]
    }
   ],
   "source": [
    "fav_fruits = ['apples', 'bananas', 'strawberries']\n",
    "question = str(input(\"What is your favourite fruit? \")).lower()\n",
    "\n",
    "if question in fav_fruits:\n",
    "    print(f\"I didn't know you liked {question}!\")\n",
    "else:\n",
    "    print(f\"Hmm, I'll add {question} to my list then\")\n",
    "\n",
    "# if 'apples' in fav_fruits:\n",
    "#     print(\"You like apples?!\")\n",
    "# if 'bananas' in fav_fruits:\n",
    "#     print(\"You like bananas?!\")\n",
    "# if 'strawberries' in fav_fruits:\n",
    "#     print(\"You like strawberries?!\")\n",
    "# if 'oranges' in fav_fruits:\n",
    "#     print(\"I didn't know you liked oranges!\")"
   ]
  },
  {
   "cell_type": "code",
   "execution_count": 13,
   "metadata": {},
   "outputs": [
    {
     "name": "stdout",
     "output_type": "stream",
     "text": [
      "{'color': 'green', 'points': 5, 'x_position': 0, 'y_position': 200}\n"
     ]
    }
   ],
   "source": [
    "alien_0 = {'color': 'green', 'points': 5}\n",
    "alien_0['x_position'] = 0\n",
    "alien_0['y_position'] = 200\n",
    "\n",
    "\n",
    "print(alien_0)\n"
   ]
  },
  {
   "cell_type": "code",
   "execution_count": 14,
   "metadata": {},
   "outputs": [
    {
     "name": "stdout",
     "output_type": "stream",
     "text": [
      "{'color': 'blue', 'points': 5, 'x_position': 0, 'y_position': 200}\n"
     ]
    }
   ],
   "source": [
    "alien_0['color'] = 'blue'\n",
    "\n",
    "print(alien_0)"
   ]
  },
  {
   "cell_type": "code",
   "execution_count": 15,
   "metadata": {},
   "outputs": [
    {
     "name": "stdout",
     "output_type": "stream",
     "text": [
      "{'points': 5, 'x_position': 0, 'y_position': 200}\n"
     ]
    }
   ],
   "source": [
    "del alien_0['color']\n",
    "\n",
    "print(alien_0)"
   ]
  },
  {
   "cell_type": "code",
   "execution_count": 16,
   "metadata": {},
   "outputs": [
    {
     "name": "stdout",
     "output_type": "stream",
     "text": [
      "None\n"
     ]
    }
   ],
   "source": [
    "# print(alien_0['color'])\n",
    "\n",
    "point_value = alien_0.get('color')\n",
    "print(point_value)"
   ]
  },
  {
   "cell_type": "code",
   "execution_count": 17,
   "metadata": {},
   "outputs": [
    {
     "name": "stdout",
     "output_type": "stream",
     "text": [
      "\n",
      "Key: username\n",
      "Value: danthedsgnr\n",
      "\n",
      "Key: first_name\n",
      "Value: Dapo\n",
      "\n",
      "Key: last_name\n",
      "Value: Daniel\n"
     ]
    }
   ],
   "source": [
    "user_0 = {\n",
    "    'username' : 'danthedsgnr',\n",
    "    'first_name' : 'Dapo',\n",
    "    'last_name' : 'Daniel'\n",
    "}\n",
    "\n",
    "for key, value in user_0.items():\n",
    "    print(f\"\\nKey: {key}\")\n",
    "    print(f\"Value: {value}\")"
   ]
  },
  {
   "cell_type": "code",
   "execution_count": 18,
   "metadata": {},
   "outputs": [
    {
     "name": "stdout",
     "output_type": "stream",
     "text": [
      "username is a key\n",
      "first_name is a key\n",
      "last_name is a key\n"
     ]
    }
   ],
   "source": [
    "for v in user_0.keys():\n",
    "    print(f\"{v} is a key\")"
   ]
  },
  {
   "cell_type": "code",
   "execution_count": 19,
   "metadata": {},
   "outputs": [
    {
     "name": "stdout",
     "output_type": "stream",
     "text": [
      "\n",
      "Dan, I see your favourite language is Python\n"
     ]
    }
   ],
   "source": [
    "favCode = {\n",
    "'jen': 'python',\n",
    "'sarah': 'c',\n",
    "'edward': 'ruby',\n",
    "'phil': 'python',\n",
    "'dan' : 'python',\n",
    "'ada' : 'c++'\n",
    "}\n",
    "\n",
    "friends = ['edward', 'dan']\n",
    "\n",
    "for friend in friends:\n",
    "    if friend in favCode.keys():\n",
    "        # print(friend.title())\n",
    "        bro = friend.title()\n",
    "\n",
    "if friend in friends:\n",
    "    lang = favCode[friend].title()\n",
    "    print(f\"\\n{bro}, I see your favourite language is {lang}\")"
   ]
  },
  {
   "cell_type": "code",
   "execution_count": 20,
   "metadata": {},
   "outputs": [
    {
     "name": "stdout",
     "output_type": "stream",
     "text": [
      "The following languages have been mentioned: \n",
      "\n",
      "c\n",
      "c++\n",
      "python\n",
      "ruby\n"
     ]
    }
   ],
   "source": [
    "print(\"The following languages have been mentioned: \\n\")\n",
    "for language in sorted(set(favCode.values())):\n",
    "    print(language)"
   ]
  },
  {
   "cell_type": "code",
   "execution_count": 21,
   "metadata": {},
   "outputs": [
    {
     "name": "stdout",
     "output_type": "stream",
     "text": [
      "{'color': 'green', 'points': 5}\n",
      "{'color': 'yellow', 'points': 10}\n",
      "{'color': 'red', 'points': 15}\n"
     ]
    }
   ],
   "source": [
    "alien_0 = {'color': 'green', 'points': 5}\n",
    "alien_1 = {'color': 'yellow', 'points': 10}\n",
    "alien_2 = {'color': 'red', 'points': 15}\n",
    "\n",
    "aliens = [alien_0, alien_1, alien_2]\n",
    "\n",
    "for alien in aliens:\n",
    "    print(alien)"
   ]
  },
  {
   "cell_type": "code",
   "execution_count": 22,
   "metadata": {},
   "outputs": [
    {
     "name": "stdout",
     "output_type": "stream",
     "text": [
      "{'color': 'green', 'points': 5, 'speed': 'slow'}\n",
      "{'color': 'green', 'points': 5, 'speed': 'slow'}\n",
      "{'color': 'green', 'points': 5, 'speed': 'slow'}\n",
      "{'color': 'green', 'points': 5, 'speed': 'slow'}\n",
      "{'color': 'green', 'points': 5, 'speed': 'slow'}\n",
      "20\n"
     ]
    }
   ],
   "source": [
    "aliens = []\n",
    "\n",
    "for alien in range(20):\n",
    "    new_alien = {'color': 'green', 'points': 5, 'speed': 'slow'}\n",
    "    aliens.append(new_alien)\n",
    "\n",
    "for alien in aliens[:5]:\n",
    "    print(alien)\n",
    "\n",
    "print(len(aliens))"
   ]
  },
  {
   "cell_type": "code",
   "execution_count": 30,
   "metadata": {},
   "outputs": [
    {
     "name": "stdout",
     "output_type": "stream",
     "text": [
      "{'color': 'yellow', 'points': 10, 'speed': 'medium'}\n",
      "{'color': 'yellow', 'points': 10, 'speed': 'medium'}\n",
      "{'color': 'yellow', 'points': 10, 'speed': 'medium'}\n",
      "{'color': 'green', 'points': 5, 'speed': 'slow'}\n",
      "{'color': 'green', 'points': 5, 'speed': 'slow'}\n",
      "...\n"
     ]
    }
   ],
   "source": [
    "# for alien in aliens[:3]:\n",
    "#     if alien['color'] == 'green':\n",
    "#         alien['color'] == 'yellow'\n",
    "#         alien['points'] == 5\n",
    "#         alien['speed'] == 'slow'\n",
    "\n",
    "# for alien in aliens[:5]:\n",
    "#     print(aliens)\n",
    "\n",
    "aliens = []\n",
    "\n",
    "for alien_number in range (30):\n",
    "    new_alien = {'color': 'green', 'points': 5, 'speed': 'slow'}\n",
    "    aliens.append(new_alien)\n",
    "\n",
    "for alien in aliens[:3]:\n",
    "    if alien['color'] == 'green':\n",
    "        alien['color'] = 'yellow'\n",
    "        alien['speed'] = 'medium'\n",
    "        alien['points'] = 10\n",
    "\n",
    "for alien in aliens[:5]:\n",
    "    print(alien)\n",
    "print(\"...\")"
   ]
  },
  {
   "cell_type": "code",
   "execution_count": 32,
   "metadata": {},
   "outputs": [
    {
     "name": "stdout",
     "output_type": "stream",
     "text": [
      "dict_keys(['danthedsgnr', 'yhungjhay'])\n"
     ]
    }
   ],
   "source": [
    "users = {\n",
    "    'danthedsgnr' : {'firstName':'Dapo', 'lastName':'Daniel','yearJoined':2020},\n",
    "    'yhungjhay'   : {'firstName':'Jubril', 'lastName':'Idris', 'yearJoined':2021}\n",
    "}\n",
    "\n",
    "print(users.keys())"
   ]
  },
  {
   "cell_type": "code",
   "execution_count": 11,
   "metadata": {},
   "outputs": [
    {
     "name": "stdout",
     "output_type": "stream",
     "text": [
      "The Username is Danthedsgnr\n",
      "The Firstname is Dapo\n",
      "The Lastname is Daniel\n"
     ]
    }
   ],
   "source": [
    "user_0 = {'username':'danthedsgnr', 'firstName':'dapo', 'lastName':'daniel'}\n",
    "\n",
    "for key, value in user_0.items():\n",
    "    print(f\"The {key.title()} is {value.title()}\")"
   ]
  },
  {
   "cell_type": "code",
   "execution_count": 30,
   "metadata": {},
   "outputs": [
    {
     "name": "stdout",
     "output_type": "stream",
     "text": [
      "\n",
      "Jen's favourite languages are:\n",
      "Python\n",
      "Ruby\n",
      "\n",
      "Sarah's favourite language is:\n",
      "C\n",
      "\n",
      "Edward's favourite languages are:\n",
      "Ruby\n",
      "Go\n",
      "\n",
      "Phil's favourite languages are:\n",
      "Python\n",
      "Haskell\n",
      "\n",
      "Dan's favourite language is:\n",
      "Python\n"
     ]
    }
   ],
   "source": [
    "favourite_languages = {\n",
    "    'jen':['python', 'ruby'],\n",
    "    'sarah':['c'],\n",
    "    'edward':['ruby', 'go'],\n",
    "    'phil':['python', 'haskell'],\n",
    "    'dan':['python']  \n",
    "}\n",
    "\n",
    "for names, languages in favourite_languages.items():\n",
    "    if len(languages) == 1:\n",
    "        print(f\"\\n{names.title()}'s favourite language is:\")\n",
    "    else:\n",
    "        print(f\"\\n{names.title()}'s favourite languages are:\")\n",
    "\n",
    "    for language in languages:\n",
    "        print(language.title())"
   ]
  }
 ],
 "metadata": {
  "kernelspec": {
   "display_name": "base",
   "language": "python",
   "name": "python3"
  },
  "language_info": {
   "codemirror_mode": {
    "name": "ipython",
    "version": 3
   },
   "file_extension": ".py",
   "mimetype": "text/x-python",
   "name": "python",
   "nbconvert_exporter": "python",
   "pygments_lexer": "ipython3",
   "version": "3.12.7"
  }
 },
 "nbformat": 4,
 "nbformat_minor": 2
}
